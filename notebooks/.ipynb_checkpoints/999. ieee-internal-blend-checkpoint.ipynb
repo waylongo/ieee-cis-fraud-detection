{
 "cells": [
  {
   "cell_type": "markdown",
   "metadata": {},
   "source": [
    "# Summary\n",
    "\n",
    "I'll try to make a small summary for this blend baseline:\n",
    "\n",
    "Step: 0. EDA (missing kernel here, I'll post later)\n",
    "\n",
    "\n",
    "Step: 1. Minify Data \n",
    "> https://www.kaggle.com/kyakovlev/ieee-data-minification\n",
    "\n",
    "\n",
    "Step: 2. Make ground baseline with no fe:\n",
    "> https://www.kaggle.com/kyakovlev/ieee-ground-baseline and \n",
    "> https://www.kaggle.com/kyakovlev/ieee-ground-baseline-deeper-learning\n",
    "\n",
    "\n",
    "Step: 3. Make a small FE and see I you can understand data you have\n",
    ">  https://www.kaggle.com/kyakovlev/ieee-ground-baseline-make-amount-useful-again and\n",
    ">  https://www.kaggle.com/kyakovlev/ieee-gb-2-make-amount-useful-again\n",
    "\n",
    "\n",
    "Step: 4. Find good CV strategy \n",
    ">  https://www.kaggle.com/kyakovlev/ieee-cv-options\n",
    "and same with gap to compare results (gap in values is what we have in test set)\n",
    "https://www.kaggle.com/kyakovlev/ieee-cv-options-with-gap\n",
    "\n",
    "Step: 4(1). Groupkfold (by timeblocks) application\n",
    "> https://www.kaggle.com/kyakovlev/ieee-lgbm-with-groupkfold-cv\n",
    "\n",
    "\n",
    "Step: 5. Try different set of features\n",
    ">  https://www.kaggle.com/kyakovlev/ieee-experimental\n",
    "\n",
    "\n",
    "Step: 6. Make deeper FE (brute force option)\n",
    "> https://www.kaggle.com/kyakovlev/ieee-fe-with-some-eda\n",
    "\n",
    "\n",
    "Step: 7. Features selection (missing kernel here, I'll post later)\n",
    "\n",
    "\n",
    "Step: 8. Hyperopt (missing kernel here, I'll post later)\n",
    "\n",
    "\n",
    "Step: 9. Try other models (XGBoost, CatBoost, NN - missing kernel here, I'll post later)\n",
    "> CatBoost (with categorical transformations)  https://www.kaggle.com/kyakovlev/ieee-catboost-baseline-with-groupkfold-cv\n",
    "\n",
    "Step: 10. Try blending and stacking (missing kernel here, I'll post later)\n",
    "\n",
    "---\n",
    "\n",
    "(Utils)\n",
    "\n",
    "Some tricks that where used in fe kernel\n",
    "> https://www.kaggle.com/kyakovlev/ieee-small-tricks\n",
    "\n",
    "Part of EDA (Just few things)\n",
    "> https://www.kaggle.com/kyakovlev/ieee-check-noise and https://www.kaggle.com/kyakovlev/ieee-simple-eda\n",
    "\n",
    "---\n",
    "\n",
    "https://www.kaggle.com/c/ieee-fraud-detection/discussion/104142"
   ]
  },
  {
   "cell_type": "code",
   "execution_count": 5,
   "metadata": {
    "_cell_guid": "b1076dfc-b9ad-4769-8c92-a6c4dae69d19",
    "_uuid": "8f2839f25d086af736a60e9eeb907d3b93b6e0e5"
   },
   "outputs": [],
   "source": [
    "# General imports\n",
    "import pandas as pd\n",
    "import os, sys, gc, warnings\n",
    "\n",
    "warnings.filterwarnings('ignore')"
   ]
  },
  {
   "cell_type": "code",
   "execution_count": 6,
   "metadata": {
    "_cell_guid": "79c7e3d0-c299-4dcb-8224-4455121ee9b0",
    "_uuid": "d629ff2d2480ee46fbb7e2d37f6b5fab8052498a"
   },
   "outputs": [],
   "source": [
    "########################### DATA LOAD/MIX/EXPORT\n",
    "sub_1 = pd.read_csv('../submissions/submission_2_2.csv')\n",
    "\n",
    "sub_2 = pd.read_csv('../submissions/submission_3_2.csv')\n",
    "\n",
    "sub_3 = pd.read_csv('../submissions/submission_4.csv')\n",
    "\n",
    "sub_4 = pd.read_csv('../submissions/overfit-sub.csv') \n",
    "\n",
    "\n",
    "\n",
    "sub_1['isFraud'] = sub_2['isFraud']\n",
    "sub_1['isFraud'] += sub_3['isFraud']\n",
    "sub_1['isFraud'] += sub_4['isFraud'] * 0.5\n",
    "\n",
    "sub_1.to_csv('../submissions/submission_com_2_3_4_overfit_scale.csv', index=False)"
   ]
  },
  {
   "cell_type": "code",
   "execution_count": null,
   "metadata": {},
   "outputs": [],
   "source": []
  }
 ],
 "metadata": {
  "kernelspec": {
   "display_name": "Python 3",
   "language": "python",
   "name": "python3"
  },
  "language_info": {
   "codemirror_mode": {
    "name": "ipython",
    "version": 3
   },
   "file_extension": ".py",
   "mimetype": "text/x-python",
   "name": "python",
   "nbconvert_exporter": "python",
   "pygments_lexer": "ipython3",
   "version": "3.6.8"
  }
 },
 "nbformat": 4,
 "nbformat_minor": 1
}
