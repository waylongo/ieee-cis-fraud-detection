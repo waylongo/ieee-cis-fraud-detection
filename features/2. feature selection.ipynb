{
 "cells": [
  {
   "cell_type": "code",
   "execution_count": 1,
   "metadata": {},
   "outputs": [],
   "source": [
    "import numpy as np\n",
    "import pandas as pd\n",
    "import matplotlib.pylab as plt\n",
    "import sys, gc, warnings, random, math, time, datetime, os\n",
    "START_DATE = datetime.datetime.strptime('2017-11-30', '%Y-%m-%d')\n",
    "from tqdm import tqdm_notebook\n",
    "from sklearn import preprocessing, metrics\n",
    "from sklearn.model_selection import train_test_split, KFold, GroupKFold\n",
    "from sklearn.preprocessing import LabelEncoder\n",
    "from sklearn.metrics import mean_absolute_error\n",
    "import xgboost as xgb\n",
    "import lightgbm as lgb\n",
    "\n",
    "warnings.filterwarnings('ignore')\n",
    "pd.set_option('display.max_columns', None)\n",
    "\n",
    "from utils import *\n",
    "\n",
    "SEED = 42\n",
    "seed_everything(SEED)"
   ]
  },
  {
   "cell_type": "code",
   "execution_count": 2,
   "metadata": {},
   "outputs": [],
   "source": [
    "train = pd.read_pickle('../input/reduced/train_df_features.pkl')\n",
    "test = pd.read_pickle('../input/reduced/test_df_features.pkl')\n",
    "train_y = pd.read_pickle('../input/reduced/train_y.pkl')"
   ]
  },
  {
   "cell_type": "code",
   "execution_count": 3,
   "metadata": {},
   "outputs": [
    {
     "name": "stdout",
     "output_type": "stream",
     "text": [
      "training data size is  (590540, 522)\n",
      "training label size is (590540,)\n",
      "testing data size is (506691, 522)\n"
     ]
    }
   ],
   "source": [
    "print('training data size is ', train.shape)\n",
    "print('training label size is', train_y.shape)\n",
    "print('testing data size is', test.shape)"
   ]
  },
  {
   "cell_type": "code",
   "execution_count": 9,
   "metadata": {},
   "outputs": [],
   "source": [
    "product_list = ['W', 'H', 'C', 'S', 'R']\n",
    "train_sepa = {}"
   ]
  },
  {
   "cell_type": "code",
   "execution_count": 10,
   "metadata": {},
   "outputs": [
    {
     "name": "stdout",
     "output_type": "stream",
     "text": [
      "(439670, 522)\n",
      "(33024, 522)\n",
      "(68519, 522)\n",
      "(11628, 522)\n",
      "(37699, 522)\n"
     ]
    }
   ],
   "source": [
    "for i in product_list:\n",
    "    print( train[train['ProductCD'] == i].shape)\n",
    "    train_sepa[i] = train[train['ProductCD'] == i]"
   ]
  },
  {
   "cell_type": "code",
   "execution_count": 13,
   "metadata": {},
   "outputs": [],
   "source": [
    "rm_cols = [\n",
    "    'TransactionID', 'TransactionDT', 'isFraud', 'ProductCD', 'uid', 'uid2',\n",
    "    'uid3', 'DT', 'DT_month', 'DT_week_year', 'DT_day_year', 'DT_hour',\n",
    "    'DT_day_week', 'DT_day', 'DT_D_total', 'DT_W_total', 'DT_M_total', 'id_30',\n",
    "    'id_31', 'id_33'\n",
    "]"
   ]
  },
  {
   "cell_type": "code",
   "execution_count": 59,
   "metadata": {},
   "outputs": [
    {
     "name": "stdout",
     "output_type": "stream",
     "text": [
      "['C14', 'V79', 'D12', 'id_09', 'V295', 'V312', 'V149', 'D14', 'C2', 'V308', 'V261', 'V16', 'V55', 'V263', 'V277', 'V282', 'V156', 'C10', 'V132', 'V21', 'V201', 'V262', 'id_01', 'C8_fq_enc', 'card5', 'id_16', 'V81', 'D7_fq_enc', 'R_emaildomain', 'card3', 'V130', 'id_38', 'M4', 'uid_fq_enc', 'D1', 'uid2_TransactionAmt_std', 'id_17', 'V240', 'V272', 'M3', 'V58', 'V37', 'DeviceType', 'V5', 'V251', 'V138', 'V13', 'card3_fq_enc', 'V329', 'M7', 'C6', 'V226', 'V144', 'V217', 'M1', 'V60', 'V163', 'V208', 'V207', 'V285', 'V237', 'C5_fq_enc', 'V328', 'V319', 'V54', 'V131', 'V40', 'V125', 'V236', 'V256', 'V187', 'id_30_version_fq_enc', 'V105', 'addr1_fq_enc', 'V76', 'V172', 'C12_fq_enc', 'V48', 'V218', 'V22', 'D4', 'V170', 'V128', 'V327', 'V135', 'V6', 'C13', 'V41', 'id_05', 'V274', 'TransactionAmt_check', 'V270', 'V174', 'V73', 'V209', 'V253', 'V18', 'V97', 'V264', 'V318', 'V152', 'uid_DT_month', 'V332', 'V49', 'uid_DT_day_year', 'V230', 'V334', 'V313', 'V139', 'M8', 'V42', 'V62', 'card4', 'V133', 'id_30_device', 'V195', 'V110', 'V248', 'V224', 'V14', 'id_33_fq_enc', 'M9', 'V161', 'dist1_fq_enc', 'V206', 'V252', 'V134', 'V39', 'C1', 'V66', 'V180', 'V24', 'V129', 'id_26', 'id_21', 'V238', 'card5_TransactionAmt_mean', 'V178', 'C9_fq_enc', 'C1_fq_enc', 'V337', 'V302', 'V220', 'V44', 'id_33_0', 'V287', 'V171', 'V233', 'V46', 'V75', 'V330', 'V317', 'V288', 'V315', 'V53', 'M2', 'M_sum', 'V336', 'V1', 'V310', 'V202', 'card2_fq_enc', 'V188', 'V150', 'id_34', 'card1_fq_enc', 'dist2_fq_enc', 'D5_fq_enc', 'V122', 'V212', 'V255', 'V216', 'C14_fq_enc', 'V181', 'uid3_TransactionAmt_mean', 'addr2_fq_enc', 'card3_TransactionAmt_std', 'id_24', 'V259', 'V114', 'card5_fq_enc', 'V275', 'V93', 'V268', 'V7', 'V157', 'V185', 'V8', 'uid_DT_week_year', 'V140', 'V265', 'V241', 'V89', 'P_emaildomain_prefix', 'D3_fq_enc', 'V85', 'V290', 'V32', 'V23', 'V151', 'V19', 'id_06', 'V146', 'V119', 'id_03', 'V95', 'V34', 'C4', 'V127', 'C2_fq_enc', 'V145', 'V63', 'C5', 'V90', 'D15', 'V309', 'V94', 'V304', 'V51', 'id_27', 'V246', 'V10', 'V211', 'V293', 'D10', 'V80', 'V182', 'D4_fq_enc', 'id_14', 'V296', 'V113', 'id_19', 'V223', 'V65', 'V225', 'C10_fq_enc', 'V228', 'V316', 'V141', 'V191', 'V260', 'V338', 'id_07', 'V124', 'V167', 'card2_TransactionAmt_mean', 'C3_fq_enc', 'V88', 'V15', 'V87', 'V118', 'V17', 'V192', 'card6', 'V273', 'V280', 'V20', 'V96', 'id_30_version', 'V325', 'R_emaildomain_fq_enc', 'id_04', 'V100', 'V283', 'C11', 'V38', 'V158', 'id_37', 'id_11', 'V276', 'V204', 'id_32', 'V243', 'uid2_TransactionAmt_mean', 'V99', 'id_22', 'V9', 'V4', 'V197', 'R_emaildomain_prefix', 'V117', 'V33', 'V186', 'V179', 'card2', 'id_29', 'V254', 'V221', 'V137', 'V284', 'D8', 'V331', 'V70', 'V175', 'uid_TransactionAmt_std', 'V229', 'D5', 'V2', 'DT_day_year_total', 'V320', 'V31', 'V210', 'D7', 'V231', 'C13_fq_enc', 'DeviceInfo_version', 'V159', 'P_emaildomain', 'D11', 'V214', 'DeviceInfo_version_fq_enc', 'uid3_fq_enc', 'V26', 'V92', 'addr2', 'V74', 'V86', 'id_10', 'V177', 'ProductCD_target_mean', 'V25', 'V148', 'DeviceInfo_device', 'V333', 'V244', 'V189', 'V67', 'V279', 'V143', 'V303', 'V305', 'V219', 'email_check', 'V111', 'V162', 'V136', 'V249', 'V112', 'card5_TransactionAmt_std', 'D3', 'dist1', 'V294', 'V169', 'dist2', 'V291', 'V183', 'V64', 'V83', 'V278', 'DT_week_year_total', 'V292', 'C7', 'V324', 'card3_TransactionAmt_mean', 'V232', 'C12', 'M6', 'V322', 'V11', 'V234', 'V194', 'V307', 'V109', 'id_25', 'V239', 'id_20', 'P_emaildomain_fq_enc', 'DeviceInfo_device_fq_enc', 'V257', 'V43', 'V222', 'V147', 'uid2_fq_enc', 'V242', 'D9', 'V193', 'id_36', 'V91', 'V339', 'V298', 'V258', 'id_23', 'V184', 'V271', 'V266', 'V29', 'V108', 'V198', 'V71', 'V199', 'V227', 'C7_fq_enc', 'V36', 'DT_month_total', 'DeviceInfo', 'id_31_device', 'V200', 'card1', 'id_02', 'V205', 'D2_fq_enc', 'id_18', 'V47', 'V57', 'V190', 'uid_TransactionAmt_mean', 'card1_TransactionAmt_std', 'V59', 'D2', 'V306', 'V30', 'id_33_1', 'V155', 'V12', 'V321', 'V160', 'addr1', 'M5', 'V250', 'card2_TransactionAmt_std', 'uid3_TransactionAmt_std', 'V102', 'V116', 'V68', 'V164', 'V235', 'V56', 'V82', 'id_30_fq_enc', 'C4_fq_enc', 'V176', 'V121', 'V126', 'V50', 'D6', 'V120', 'id_28', 'V247', 'V35', 'V196', 'D6_fq_enc', 'TransactionAmt', 'M4_target_mean', 'card1_TransactionAmt_mean', 'V173', 'V69', 'V326', 'D1_fq_enc', 'V72', 'id_30_device_fq_enc', 'V107', 'V267', 'V45', 'V168', 'V314', 'id_31_device_fq_enc', 'DeviceInfo_fq_enc', 'V84', 'V3', 'C9', 'V115', 'D8_fq_enc', 'V165', 'V153', 'V123', 'V78', 'V103', 'V203', 'V269', 'V289', 'V215', 'V27', 'C8', 'id_15', 'V323', 'V61', 'id_12', 'V335', 'V142', 'id_08', 'V28', 'V77', 'V213', 'id_13', 'V52', 'id_35', 'V154', 'V245', 'C6_fq_enc', 'C11_fq_enc', 'D13', 'V166']\n"
     ]
    }
   ],
   "source": [
    "########################### Features elimination \n",
    "from scipy.stats import ks_2samp\n",
    "features_check = []\n",
    "columns_to_check = set(list(train)).difference(rm_cols)\n",
    "for i in columns_to_check:\n",
    "    features_check.append(ks_2samp(train_y, train[i])[1])\n",
    "\n",
    "features_check = pd.Series(features_check, index=columns_to_check).sort_values() \n",
    "features_discard = list(features_check[features_check == 0].index)\n",
    "print(features_discard)\n",
    "\n",
    "# We will reset this list for now,\n",
    "# Good droping will be in other kernels\n",
    "# with better checking\n",
    "# features_discard = [] \n",
    "\n",
    "# Final features list\n",
    "features_columns = [col for col in list(train) if col not in rm_cols + features_discard]"
   ]
  },
  {
   "cell_type": "code",
   "execution_count": null,
   "metadata": {
    "scrolled": true
   },
   "outputs": [],
   "source": []
  },
  {
   "cell_type": "code",
   "execution_count": null,
   "metadata": {},
   "outputs": [],
   "source": []
  },
  {
   "cell_type": "code",
   "execution_count": null,
   "metadata": {},
   "outputs": [],
   "source": []
  },
  {
   "cell_type": "code",
   "execution_count": null,
   "metadata": {},
   "outputs": [],
   "source": []
  },
  {
   "cell_type": "code",
   "execution_count": null,
   "metadata": {},
   "outputs": [],
   "source": []
  },
  {
   "cell_type": "code",
   "execution_count": null,
   "metadata": {},
   "outputs": [],
   "source": []
  },
  {
   "cell_type": "code",
   "execution_count": null,
   "metadata": {},
   "outputs": [],
   "source": []
  },
  {
   "cell_type": "code",
   "execution_count": null,
   "metadata": {},
   "outputs": [],
   "source": []
  },
  {
   "cell_type": "code",
   "execution_count": null,
   "metadata": {},
   "outputs": [],
   "source": []
  },
  {
   "cell_type": "code",
   "execution_count": null,
   "metadata": {},
   "outputs": [],
   "source": []
  },
  {
   "cell_type": "code",
   "execution_count": null,
   "metadata": {},
   "outputs": [],
   "source": []
  },
  {
   "cell_type": "code",
   "execution_count": null,
   "metadata": {},
   "outputs": [],
   "source": []
  },
  {
   "cell_type": "code",
   "execution_count": null,
   "metadata": {},
   "outputs": [],
   "source": []
  },
  {
   "cell_type": "code",
   "execution_count": null,
   "metadata": {},
   "outputs": [],
   "source": []
  },
  {
   "cell_type": "code",
   "execution_count": null,
   "metadata": {},
   "outputs": [],
   "source": []
  },
  {
   "cell_type": "code",
   "execution_count": null,
   "metadata": {},
   "outputs": [],
   "source": []
  },
  {
   "cell_type": "code",
   "execution_count": null,
   "metadata": {},
   "outputs": [],
   "source": []
  },
  {
   "cell_type": "code",
   "execution_count": null,
   "metadata": {},
   "outputs": [],
   "source": []
  },
  {
   "cell_type": "code",
   "execution_count": null,
   "metadata": {},
   "outputs": [],
   "source": []
  },
  {
   "cell_type": "code",
   "execution_count": null,
   "metadata": {},
   "outputs": [],
   "source": []
  },
  {
   "cell_type": "code",
   "execution_count": null,
   "metadata": {},
   "outputs": [],
   "source": []
  },
  {
   "cell_type": "code",
   "execution_count": null,
   "metadata": {},
   "outputs": [],
   "source": []
  },
  {
   "cell_type": "code",
   "execution_count": null,
   "metadata": {},
   "outputs": [],
   "source": []
  },
  {
   "cell_type": "code",
   "execution_count": null,
   "metadata": {},
   "outputs": [],
   "source": []
  },
  {
   "cell_type": "code",
   "execution_count": null,
   "metadata": {},
   "outputs": [],
   "source": []
  },
  {
   "cell_type": "code",
   "execution_count": null,
   "metadata": {},
   "outputs": [],
   "source": []
  },
  {
   "cell_type": "code",
   "execution_count": null,
   "metadata": {},
   "outputs": [],
   "source": []
  },
  {
   "cell_type": "code",
   "execution_count": null,
   "metadata": {},
   "outputs": [],
   "source": []
  },
  {
   "cell_type": "code",
   "execution_count": null,
   "metadata": {},
   "outputs": [],
   "source": []
  },
  {
   "cell_type": "code",
   "execution_count": null,
   "metadata": {},
   "outputs": [],
   "source": []
  },
  {
   "cell_type": "code",
   "execution_count": null,
   "metadata": {},
   "outputs": [],
   "source": []
  },
  {
   "cell_type": "code",
   "execution_count": null,
   "metadata": {},
   "outputs": [],
   "source": []
  },
  {
   "cell_type": "code",
   "execution_count": null,
   "metadata": {},
   "outputs": [],
   "source": []
  },
  {
   "cell_type": "code",
   "execution_count": null,
   "metadata": {},
   "outputs": [],
   "source": []
  },
  {
   "cell_type": "code",
   "execution_count": null,
   "metadata": {},
   "outputs": [],
   "source": []
  },
  {
   "cell_type": "code",
   "execution_count": null,
   "metadata": {},
   "outputs": [],
   "source": []
  },
  {
   "cell_type": "code",
   "execution_count": null,
   "metadata": {},
   "outputs": [],
   "source": []
  },
  {
   "cell_type": "code",
   "execution_count": null,
   "metadata": {},
   "outputs": [],
   "source": []
  },
  {
   "cell_type": "code",
   "execution_count": null,
   "metadata": {},
   "outputs": [],
   "source": []
  },
  {
   "cell_type": "code",
   "execution_count": null,
   "metadata": {},
   "outputs": [],
   "source": []
  }
 ],
 "metadata": {
  "kernelspec": {
   "display_name": "Python 3",
   "language": "python",
   "name": "python3"
  },
  "language_info": {
   "codemirror_mode": {
    "name": "ipython",
    "version": 3
   },
   "file_extension": ".py",
   "mimetype": "text/x-python",
   "name": "python",
   "nbconvert_exporter": "python",
   "pygments_lexer": "ipython3",
   "version": "3.6.8"
  }
 },
 "nbformat": 4,
 "nbformat_minor": 2
}
