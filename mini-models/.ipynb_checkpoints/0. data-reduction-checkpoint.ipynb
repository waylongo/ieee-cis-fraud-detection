{
 "cells": [
  {
   "cell_type": "code",
   "execution_count": 1,
   "metadata": {},
   "outputs": [
    {
     "name": "stdout",
     "output_type": "stream",
     "text": [
      "['train_transaction.csv', 'train_identity.csv', 'ieee-fe-with-some-eda', 'separated', 'sample_submission.csv', 'ieee-data-minification', 'reduced', 'standalone-train-and-test-preprocessing', 'test_identity.csv', 'mini-model-data', 'test_transaction.csv', 'ieee-fe-for-local-test']\n"
     ]
    }
   ],
   "source": [
    "import numpy as np \n",
    "import pandas as pd \n",
    "import matplotlib.pylab as plt\n",
    "import sys, gc, warnings, random, math, time, datetime \n",
    "from tqdm import tqdm\n",
    "\n",
    "from sklearn import preprocessing\n",
    "from sklearn import metrics\n",
    "from sklearn.model_selection import train_test_split, KFold\n",
    "from sklearn.preprocessing import LabelEncoder\n",
    "from sklearn.metrics import mean_absolute_error\n",
    "\n",
    "import xgboost as xgb\n",
    "import lightgbm as lgb\n",
    "\n",
    "warnings.filterwarnings('ignore')\n",
    "pd.set_option('display.max_columns', None)\n",
    "# pd.set_option('display.max_rows', None)\n",
    "\n",
    "import os\n",
    "print(os.listdir(\"../input/\"))"
   ]
  },
  {
   "cell_type": "code",
   "execution_count": 2,
   "metadata": {},
   "outputs": [],
   "source": [
    "from utils import *"
   ]
  },
  {
   "cell_type": "code",
   "execution_count": 3,
   "metadata": {},
   "outputs": [],
   "source": [
    "SEED = 42\n",
    "seed_everything(SEED)"
   ]
  },
  {
   "cell_type": "code",
   "execution_count": 4,
   "metadata": {},
   "outputs": [],
   "source": [
    "# loading data\n",
    "train_df = pd.read_csv('../input/train_transaction.csv', index_col='TransactionID')\n",
    "test_df = pd.read_csv('../input/test_transaction.csv', index_col='TransactionID')\n",
    "test_df['isFraud'] = 0\n",
    "\n",
    "train_identity = pd.read_csv('../input/train_identity.csv', index_col='TransactionID')\n",
    "test_identity = pd.read_csv('../input/test_identity.csv', index_col='TransactionID')"
   ]
  },
  {
   "cell_type": "code",
   "execution_count": 5,
   "metadata": {},
   "outputs": [
    {
     "name": "stdout",
     "output_type": "stream",
     "text": [
      "Mem. usage decreased to 544.60 Mb (69.3% reduction)\n",
      "Mem. usage decreased to 475.00 Mb (68.8% reduction)\n",
      "Mem. usage decreased to 26.41 Mb (41.5% reduction)\n",
      "Mem. usage decreased to 25.98 Mb (41.5% reduction)\n"
     ]
    }
   ],
   "source": [
    "train_df = reduce_mem_usage(train_df)\n",
    "test_df  = reduce_mem_usage(test_df)\n",
    "\n",
    "train_identity = reduce_mem_usage(train_identity)\n",
    "test_identity  = reduce_mem_usage(test_identity)"
   ]
  },
  {
   "cell_type": "code",
   "execution_count": 6,
   "metadata": {},
   "outputs": [
    {
     "name": "stdout",
     "output_type": "stream",
     "text": [
      "['W' 'H' 'C' 'S' 'R']\n"
     ]
    }
   ],
   "source": [
    "print(train_df['ProductCD'].unique())"
   ]
  },
  {
   "cell_type": "code",
   "execution_count": 7,
   "metadata": {},
   "outputs": [
    {
     "name": "stdout",
     "output_type": "stream",
     "text": [
      "(439670, 393)\n",
      "(360987, 393)\n",
      "W fraud rate is:  2.0399390451929857 %\n"
     ]
    }
   ],
   "source": [
    "# W\n",
    "train_df_w = train_df[train_df['ProductCD'] == 'W']\n",
    "test_df_w = test_df[test_df['ProductCD'] == 'W']\n",
    "print(train_df_w.shape)\n",
    "print(test_df_w.shape)\n",
    "\n",
    "print('W fraud rate is: ',train_df_w['isFraud'].sum() / len(train_df_w) * 100, '%')\n",
    "\n",
    "train_df_w.to_pickle('../input/mini-model-data/train_df_w.pkl')\n",
    "test_df_w.to_pickle('../input/mini-model-data/test_df_w.pkl')"
   ]
  },
  {
   "cell_type": "code",
   "execution_count": 8,
   "metadata": {},
   "outputs": [
    {
     "name": "stdout",
     "output_type": "stream",
     "text": [
      "(33024, 393)\n",
      "(29373, 393)\n",
      "H fraud rate is:  4.766230620155039 %\n"
     ]
    }
   ],
   "source": [
    "# H\n",
    "train_df_h = train_df[train_df['ProductCD'] == 'H']\n",
    "test_df_h = test_df[test_df['ProductCD'] == 'H']\n",
    "print(train_df_h.shape)\n",
    "print(test_df_h.shape)\n",
    "\n",
    "print('H fraud rate is: ',train_df_h['isFraud'].sum() / len(train_df_h) * 100, '%')\n",
    "\n",
    "train_df_h.to_pickle('../input/mini-model-data/train_df_h.pkl')\n",
    "test_df_h.to_pickle('../input/mini-model-data/test_df_h.pkl')"
   ]
  },
  {
   "cell_type": "code",
   "execution_count": 9,
   "metadata": {},
   "outputs": [
    {
     "name": "stdout",
     "output_type": "stream",
     "text": [
      "(68519, 393)\n",
      "(69266, 393)\n",
      "C fraud rate is:  11.687269224594637 %\n"
     ]
    }
   ],
   "source": [
    "# C\n",
    "train_df_c = train_df[train_df['ProductCD'] == 'C']\n",
    "test_df_c = test_df[test_df['ProductCD'] == 'C']\n",
    "print(train_df_c.shape)\n",
    "print(test_df_c.shape)\n",
    "\n",
    "print('C fraud rate is: ',train_df_c['isFraud'].sum() / len(train_df_c) * 100, '%')\n",
    "\n",
    "train_df_c.to_pickle('../input/mini-model-data/train_df_c.pkl')\n",
    "test_df_c.to_pickle('../input/mini-model-data/test_df_c.pkl')"
   ]
  },
  {
   "cell_type": "code",
   "execution_count": 10,
   "metadata": {},
   "outputs": [
    {
     "name": "stdout",
     "output_type": "stream",
     "text": [
      "(11628, 393)\n",
      "(11418, 393)\n",
      "S fraud rate is:  5.8995528035775715 %\n"
     ]
    }
   ],
   "source": [
    "# S\n",
    "train_df_s = train_df[train_df['ProductCD'] == 'S']\n",
    "test_df_s = test_df[test_df['ProductCD'] == 'S']\n",
    "print(train_df_s.shape)\n",
    "print(test_df_s.shape)\n",
    "\n",
    "print('S fraud rate is: ',train_df_s['isFraud'].sum() / len(train_df_s) * 100, '%')\n",
    "\n",
    "train_df_s.to_pickle('../input/mini-model-data/train_df_s.pkl')\n",
    "test_df_s.to_pickle('../input/mini-model-data/test_df_s.pkl')"
   ]
  },
  {
   "cell_type": "code",
   "execution_count": 11,
   "metadata": {},
   "outputs": [
    {
     "name": "stdout",
     "output_type": "stream",
     "text": [
      "(37699, 393)\n",
      "(35647, 393)\n",
      "R fraud rate is:  3.782593702750736 %\n"
     ]
    }
   ],
   "source": [
    "# R\n",
    "train_df_r = train_df[train_df['ProductCD'] == 'R']\n",
    "test_df_r = test_df[test_df['ProductCD'] == 'R']\n",
    "print(train_df_r.shape)\n",
    "print(test_df_r.shape)\n",
    "\n",
    "print('R fraud rate is: ',train_df_r['isFraud'].sum() / len(train_df_r) * 100, '%')\n",
    "\n",
    "train_df_r.to_pickle('../input/mini-model-data/train_df_r.pkl')\n",
    "test_df_r.to_pickle('../input/mini-model-data/test_df_r.pkl')"
   ]
  },
  {
   "cell_type": "code",
   "execution_count": 12,
   "metadata": {},
   "outputs": [],
   "source": [
    "train_identity.to_pickle('../input/mini-model-data/train_identity.pkl')\n",
    "test_identity.to_pickle('../input/mini-model-data/test_identity.pkl')"
   ]
  },
  {
   "cell_type": "code",
   "execution_count": null,
   "metadata": {},
   "outputs": [],
   "source": []
  },
  {
   "cell_type": "code",
   "execution_count": null,
   "metadata": {},
   "outputs": [],
   "source": []
  },
  {
   "cell_type": "code",
   "execution_count": null,
   "metadata": {},
   "outputs": [],
   "source": []
  },
  {
   "cell_type": "code",
   "execution_count": null,
   "metadata": {},
   "outputs": [],
   "source": []
  },
  {
   "cell_type": "code",
   "execution_count": null,
   "metadata": {},
   "outputs": [],
   "source": []
  },
  {
   "cell_type": "code",
   "execution_count": null,
   "metadata": {},
   "outputs": [],
   "source": []
  },
  {
   "cell_type": "code",
   "execution_count": null,
   "metadata": {},
   "outputs": [],
   "source": []
  },
  {
   "cell_type": "code",
   "execution_count": null,
   "metadata": {},
   "outputs": [],
   "source": []
  },
  {
   "cell_type": "code",
   "execution_count": null,
   "metadata": {},
   "outputs": [],
   "source": []
  },
  {
   "cell_type": "code",
   "execution_count": null,
   "metadata": {},
   "outputs": [],
   "source": []
  },
  {
   "cell_type": "code",
   "execution_count": null,
   "metadata": {},
   "outputs": [],
   "source": []
  },
  {
   "cell_type": "code",
   "execution_count": null,
   "metadata": {},
   "outputs": [],
   "source": []
  },
  {
   "cell_type": "code",
   "execution_count": null,
   "metadata": {},
   "outputs": [],
   "source": []
  },
  {
   "cell_type": "code",
   "execution_count": null,
   "metadata": {},
   "outputs": [],
   "source": []
  }
 ],
 "metadata": {
  "kernelspec": {
   "display_name": "Python 3",
   "language": "python",
   "name": "python3"
  },
  "language_info": {
   "codemirror_mode": {
    "name": "ipython",
    "version": 3
   },
   "file_extension": ".py",
   "mimetype": "text/x-python",
   "name": "python",
   "nbconvert_exporter": "python",
   "pygments_lexer": "ipython3",
   "version": "3.6.8"
  }
 },
 "nbformat": 4,
 "nbformat_minor": 2
}
