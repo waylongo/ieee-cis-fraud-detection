{
 "cells": [
  {
   "cell_type": "code",
   "execution_count": 1,
   "metadata": {},
   "outputs": [
    {
     "name": "stdout",
     "output_type": "stream",
     "text": [
      "['test_df_h.pkl', 'test_df_c.pkl', 'train_df_w.pkl', 'test_df_w.pkl', 'train_df_s.pkl', 'test_df_s.pkl', 'test_df_r.pkl', 'train_df_h.pkl', 'test_identity.pkl', 'train_df_r.pkl', 'train_identity.pkl', 'train_df_c.pkl']\n"
     ]
    }
   ],
   "source": [
    "import numpy as np \n",
    "import pandas as pd \n",
    "import matplotlib.pylab as plt\n",
    "import sys, gc, warnings, random, math, time, datetime \n",
    "from tqdm import tqdm\n",
    "START_DATE = datetime.datetime.strptime('2017-11-30', '%Y-%m-%d')\n",
    "\n",
    "from sklearn import preprocessing\n",
    "from sklearn import metrics\n",
    "from sklearn.model_selection import train_test_split, KFold\n",
    "from sklearn.preprocessing import LabelEncoder\n",
    "from sklearn.metrics import mean_absolute_error\n",
    "\n",
    "import xgboost as xgb\n",
    "import lightgbm as lgb\n",
    "\n",
    "warnings.filterwarnings('ignore')\n",
    "pd.set_option('display.max_columns', None)\n",
    "# pd.set_option('display.max_rows', None)\n",
    "\n",
    "from utils import *\n",
    "\n",
    "import os\n",
    "print(os.listdir(\"../input/mini-model-data/\"))"
   ]
  },
  {
   "cell_type": "code",
   "execution_count": 2,
   "metadata": {},
   "outputs": [
    {
     "name": "stdout",
     "output_type": "stream",
     "text": [
      "submission shape is  (506691, 1)\n"
     ]
    }
   ],
   "source": [
    "sub = pd.read_csv('../input/sample_submission.csv',index_col='TransactionID')\n",
    "print('submission shape is ', sub.shape)"
   ]
  },
  {
   "cell_type": "code",
   "execution_count": 3,
   "metadata": {},
   "outputs": [
    {
     "name": "stdout",
     "output_type": "stream",
     "text": [
      "(360987, 1) 0.7124401262307797\n",
      "(29373, 1) 0.05797024221863029\n",
      "(69266, 1) 0.13670264520190806\n",
      "(11418, 1) 0.022534444069462454\n",
      "(35647, 1) 0.07035254227921948\n"
     ]
    }
   ],
   "source": [
    "predictions_w = pd.read_pickle('../input/mini-model-predictions/predictions_w.pkl')\n",
    "predictions_h = pd.read_pickle('../input/mini-model-predictions/predictions_h.pkl')\n",
    "predictions_c = pd.read_pickle('../input/mini-model-predictions/predictions_c.pkl')\n",
    "predictions_s = pd.read_pickle('../input/mini-model-predictions/predictions_s.pkl')\n",
    "predictions_r = pd.read_pickle('../input/mini-model-predictions/predictions_r.pkl')\n",
    "\n",
    "print(predictions_w.shape, predictions_w.shape[0] / len(sub))\n",
    "print(predictions_h.shape, predictions_h.shape[0] / len(sub))\n",
    "print(predictions_c.shape, predictions_c.shape[0] / len(sub))\n",
    "print(predictions_s.shape, predictions_s.shape[0] / len(sub))\n",
    "print(predictions_r.shape, predictions_r.shape[0] / len(sub))"
   ]
  },
  {
   "cell_type": "code",
   "execution_count": 4,
   "metadata": {},
   "outputs": [
    {
     "name": "stdout",
     "output_type": "stream",
     "text": [
      "Overall AUC score is:  0.9278405968713734\n"
     ]
    }
   ],
   "source": [
    "W_OOF_AUC = 0.9234207565861636 * predictions_w.shape[0] / len(sub)\n",
    "H_OOF_AUC = 0.916586704052135  * predictions_h.shape[0] / len(sub)\n",
    "C_OOF_AUC = 0.9405817427106945 * predictions_c.shape[0] / len(sub)\n",
    "S_OOF_AUC = 0.9352207211840008 * predictions_s.shape[0] / len(sub)\n",
    "R_OOF_AUC = 0.9547508841805028 * predictions_r.shape[0] / len(sub)\n",
    "print('Overall AUC score is: ', W_OOF_AUC + H_OOF_AUC + C_OOF_AUC + S_OOF_AUC + R_OOF_AUC) # LB 0.9221"
   ]
  },
  {
   "cell_type": "code",
   "execution_count": 5,
   "metadata": {},
   "outputs": [],
   "source": [
    "#W 2.0399390451929857 %\n",
    "scaler_w = 9\n",
    "\n",
    "#H 4.766230620155039 %\n",
    "scaler_h = 7\n",
    "\n",
    "#C 11.687269224594637 %\n",
    "scaler_c = 1.66\n",
    "\n",
    "#S 5.8995528035775715 %\n",
    "scaler_s = 7.12\n",
    "\n",
    "#R 3.782593702750736 %\n",
    "scaler_r = 6.87\n"
   ]
  },
  {
   "cell_type": "code",
   "execution_count": 6,
   "metadata": {},
   "outputs": [],
   "source": [
    "sub.loc[predictions_w.index, 'isFraud'] = predictions_w['isFraud'].values #/ predictions_w.values.max()\n",
    "sub.loc[predictions_h.index, 'isFraud'] = predictions_h['isFraud'].values #/ predictions_h.values.max()\n",
    "sub.loc[predictions_c.index, 'isFraud'] = predictions_c['isFraud'].values #/ predictions_c.values.max()\n",
    "sub.loc[predictions_s.index, 'isFraud'] = predictions_s['isFraud'].values #/ predictions_s.values.max()\n",
    "sub.loc[predictions_r.index, 'isFraud'] = predictions_r['isFraud'].values #/ predictions_r.values.max()"
   ]
  },
  {
   "cell_type": "code",
   "execution_count": 7,
   "metadata": {},
   "outputs": [],
   "source": [
    "sub.head()\n",
    "sub.to_csv('../submissions/sub.csv',index=True)"
   ]
  },
  {
   "cell_type": "code",
   "execution_count": 8,
   "metadata": {},
   "outputs": [],
   "source": [
    "# scaler_r = 6.87\n",
    "# predictions_r = pd.read_pickle('../input/mini-model-predictions/predictions_r.pkl') * scaler_r\n",
    "# print(np.array(predictions_r > 0.5).sum() / len(predictions_r) )"
   ]
  },
  {
   "cell_type": "code",
   "execution_count": null,
   "metadata": {},
   "outputs": [],
   "source": [
    "\n"
   ]
  },
  {
   "cell_type": "code",
   "execution_count": null,
   "metadata": {},
   "outputs": [],
   "source": []
  },
  {
   "cell_type": "code",
   "execution_count": null,
   "metadata": {},
   "outputs": [],
   "source": []
  },
  {
   "cell_type": "code",
   "execution_count": null,
   "metadata": {},
   "outputs": [],
   "source": []
  },
  {
   "cell_type": "code",
   "execution_count": null,
   "metadata": {},
   "outputs": [],
   "source": []
  },
  {
   "cell_type": "code",
   "execution_count": null,
   "metadata": {},
   "outputs": [],
   "source": []
  },
  {
   "cell_type": "code",
   "execution_count": null,
   "metadata": {},
   "outputs": [],
   "source": []
  },
  {
   "cell_type": "code",
   "execution_count": null,
   "metadata": {},
   "outputs": [],
   "source": []
  },
  {
   "cell_type": "code",
   "execution_count": null,
   "metadata": {},
   "outputs": [],
   "source": []
  },
  {
   "cell_type": "code",
   "execution_count": null,
   "metadata": {},
   "outputs": [],
   "source": []
  },
  {
   "cell_type": "code",
   "execution_count": null,
   "metadata": {},
   "outputs": [],
   "source": []
  },
  {
   "cell_type": "code",
   "execution_count": null,
   "metadata": {},
   "outputs": [],
   "source": []
  },
  {
   "cell_type": "code",
   "execution_count": null,
   "metadata": {},
   "outputs": [],
   "source": []
  },
  {
   "cell_type": "code",
   "execution_count": null,
   "metadata": {},
   "outputs": [],
   "source": []
  },
  {
   "cell_type": "code",
   "execution_count": null,
   "metadata": {},
   "outputs": [],
   "source": []
  },
  {
   "cell_type": "code",
   "execution_count": null,
   "metadata": {},
   "outputs": [],
   "source": []
  },
  {
   "cell_type": "code",
   "execution_count": null,
   "metadata": {},
   "outputs": [],
   "source": []
  }
 ],
 "metadata": {
  "kernelspec": {
   "display_name": "Python 3",
   "language": "python",
   "name": "python3"
  },
  "language_info": {
   "codemirror_mode": {
    "name": "ipython",
    "version": 3
   },
   "file_extension": ".py",
   "mimetype": "text/x-python",
   "name": "python",
   "nbconvert_exporter": "python",
   "pygments_lexer": "ipython3",
   "version": "3.6.8"
  }
 },
 "nbformat": 4,
 "nbformat_minor": 2
}
