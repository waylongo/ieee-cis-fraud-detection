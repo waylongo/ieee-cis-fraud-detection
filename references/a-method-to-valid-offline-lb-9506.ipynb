{
 "cells": [
  {
   "cell_type": "markdown",
   "metadata": {},
   "source": [
    "**LGB + XGB + CatBoost**\n",
    "\n",
    "**Holdout valid data. For me, it's a reliable method to test your features and models offline.\n",
    "The lb score = valid score + 0.01**\n"
   ]
  },
  {
   "cell_type": "code",
   "execution_count": 1,
   "metadata": {},
   "outputs": [],
   "source": [
    "import os\n",
    "\n",
    "import numpy as np\n",
    "import pandas as pd\n",
    "from sklearn import preprocessing\n",
    "import xgboost as xgb\n",
    "import matplotlib.pyplot as plt\n",
    "import seaborn as sns\n",
    "import random\n",
    "seed = 10\n",
    "np.random.seed(seed)\n",
    "random.seed(seed)\n",
    "os.environ['PYTHONHASHSEED'] = str(seed)\n",
    "np.random.seed(seed)\n",
    "import eli5"
   ]
  },
  {
   "cell_type": "code",
   "execution_count": 2,
   "metadata": {},
   "outputs": [],
   "source": [
    "def reduce_mem_usage(df):\n",
    "    \"\"\" iterate through all the columns of a dataframe and modify the data type\n",
    "        to reduce memory usage.        \n",
    "    \"\"\"\n",
    "    start_mem = df.memory_usage().sum() / 1024**2\n",
    "    print('Memory usage of dataframe is {:.2f} MB'.format(start_mem))\n",
    "    \n",
    "    for col in df.columns:\n",
    "        col_type = df[col].dtype\n",
    "        \n",
    "        if col_type != object:\n",
    "            c_min = df[col].min()\n",
    "            c_max = df[col].max()\n",
    "            if str(col_type)[:3] == 'int':\n",
    "                if c_min > np.iinfo(np.int8).min and c_max < np.iinfo(np.int8).max:\n",
    "                    df[col] = df[col].astype(np.int8)\n",
    "                elif c_min > np.iinfo(np.int16).min and c_max < np.iinfo(np.int16).max:\n",
    "                    df[col] = df[col].astype(np.int16)\n",
    "                elif c_min > np.iinfo(np.int32).min and c_max < np.iinfo(np.int32).max:\n",
    "                    df[col] = df[col].astype(np.int32)\n",
    "                elif c_min > np.iinfo(np.int64).min and c_max < np.iinfo(np.int64).max:\n",
    "                    df[col] = df[col].astype(np.int64)  \n",
    "            else:\n",
    "                if c_min > np.finfo(np.float16).min and c_max < np.finfo(np.float16).max:\n",
    "                    df[col] = df[col].astype(np.float16)\n",
    "                elif c_min > np.finfo(np.float32).min and c_max < np.finfo(np.float32).max:\n",
    "                    df[col] = df[col].astype(np.float32)\n",
    "                else:\n",
    "                    df[col] = df[col].astype(np.float64)\n",
    "        else:\n",
    "            df[col] = df[col].astype('category')\n",
    "\n",
    "    end_mem = df.memory_usage().sum() / 1024**2\n",
    "    print('Memory usage after optimization is: {:.2f} MB'.format(end_mem))\n",
    "    print('Decreased by {:.1f}%'.format(100 * (start_mem - end_mem) / start_mem))\n",
    "    \n",
    "    return df"
   ]
  },
  {
   "cell_type": "code",
   "execution_count": 3,
   "metadata": {},
   "outputs": [
    {
     "name": "stdout",
     "output_type": "stream",
     "text": [
      "CPU times: user 29.7 s, sys: 2.38 s, total: 32.1 s\n",
      "Wall time: 27.9 s\n"
     ]
    }
   ],
   "source": [
    "%%time\n",
    "train_transaction = pd.read_csv('../input/train_transaction.csv', index_col='TransactionID')\n",
    "test_transaction = pd.read_csv('../input/test_transaction.csv', index_col='TransactionID')\n",
    "\n",
    "\n",
    "# train_transaction = reduce_mem_usage(train_transaction)\n",
    "# test_transaction = reduce_mem_usage(test_transaction)\n",
    "\n",
    "sample_submission = pd.read_csv('../input/sample_submission.csv', index_col='TransactionID')"
   ]
  },
  {
   "cell_type": "code",
   "execution_count": 4,
   "metadata": {},
   "outputs": [],
   "source": [
    "train_transaction['hour'] = train_transaction['TransactionDT'].map(lambda x:(x//3600)%24)\n",
    "test_transaction['hour'] = test_transaction['TransactionDT'].map(lambda x:(x//3600)%24)\n",
    "train_transaction['weekday'] = train_transaction['TransactionDT'].map(lambda x:(x//(3600 * 24))%7)\n",
    "test_transaction['weekday'] = test_transaction['TransactionDT'].map(lambda x:(x//(3600 * 24))%7)"
   ]
  },
  {
   "cell_type": "code",
   "execution_count": 5,
   "metadata": {},
   "outputs": [],
   "source": [
    "cols = \"TransactionDT,TransactionAmt,ProductCD,card1,card2,card3,card4,card5,card6,addr1,addr2,C1,C2,C3,C4,C5,C6,C7,C8,C9,C10,C11,C12,C13,C14,M1,M2,M3,M4,M5,M6,M7,M8,M9\".split(\",\")\n",
    "train_test = train_transaction[cols].append(test_transaction[cols])\n",
    "\n",
    "for col in \"ProductCD,card1,card2,card3,card4,card5,card6,addr1,addr2,C1,C2,C3,C4,C5,C6,C7,C8,C9,C10,C11,C12,C13,C14\".split(\",\"):\n",
    "    col_count = train_test.groupby(col)['TransactionDT'].count()\n",
    "    train_transaction[col+'_count'] = train_transaction[col].map(col_count)\n",
    "    test_transaction[col+'_count'] = test_transaction[col].map(col_count)\n",
    "#     print(col,test_transaction[col].map(lambda x:0 if x in s else 1).sum())\n",
    "\n",
    "\n",
    "for col in \"card1,card2,card5,addr1,addr2\".split(\",\"):\n",
    "    col_count = train_test.groupby(col)['TransactionAmt'].mean()\n",
    "    train_transaction[col+'_amtcount'] = train_transaction[col].map(col_count)\n",
    "    test_transaction[col+'_amtcount'] = test_transaction[col].map(col_count)\n",
    "    col_count1 = train_test[train_test['C5'] == 0].groupby(col)['C5'].count()\n",
    "    col_count2 = train_test[train_test['C5'] != 0].groupby(col)['C5'].count()\n",
    "    train_transaction[col+'_C5count'] = train_transaction[col].map(col_count2) / (train_transaction[col].map(col_count1) + 0.01)\n",
    "    test_transaction[col+'_C5count'] = test_transaction[col].map(col_count2) / (test_transaction[col].map(col_count1) + 0.01)\n",
    "    \n",
    "del train_test\n"
   ]
  },
  {
   "cell_type": "code",
   "execution_count": 6,
   "metadata": {},
   "outputs": [],
   "source": [
    "train_identity = pd.read_csv('../input/train_identity.csv', index_col='TransactionID')\n",
    "test_identity = pd.read_csv('../input/test_identity.csv', index_col='TransactionID')\n",
    "\n",
    "\n",
    "# train_test = train_identity.append(test_identity).fillna(-1)    \n",
    "# for col in \"id_01,id_02,id_03,id_04,id_05,id_06,id_07,id_08,id_09,id_10,id_12,id_13,id_14,id_15,id_16,id_17,id_18,id_19,id_20,id_21,id_22,id_23,id_24,id_25,id_26,id_27,id_28,id_29,id_30,id_31,id_32,id_33,id_34,id_35,id_36,id_37,id_38,DeviceType,DeviceInfo\".split(\",\"):\n",
    "#     col_count = train_test.groupby(col)['id_01'].count()\n",
    "#     train_identity[col+'_count'] = train_identity[col].fillna(-1).map(col_count)\n",
    "#     test_identity[col+'_count'] = test_identity[col].fillna(-1).map(col_count)\n",
    "    \n",
    "# del train_test"
   ]
  },
  {
   "cell_type": "code",
   "execution_count": 7,
   "metadata": {},
   "outputs": [
    {
     "name": "stdout",
     "output_type": "stream",
     "text": [
      "V126 24875\n",
      "V127 104743\n",
      "V128 46447\n",
      "V129 8376\n",
      "V130 89202\n",
      "V131 29537\n",
      "V132 9116\n",
      "V133 14910\n",
      "V134 11134\n",
      "V135 9184\n",
      "V136 14824\n",
      "V137 10682\n",
      "V159 8116\n",
      "V160 10836\n",
      "V164 597\n",
      "V165 3440\n",
      "V166 2347\n",
      "V202 16120\n",
      "V203 20278\n",
      "V204 18198\n",
      "V205 6576\n",
      "V206 4897\n",
      "V207 9195\n",
      "V208 10054\n",
      "V209 10466\n",
      "V210 10210\n",
      "V211 10131\n",
      "V212 11253\n",
      "V213 10710\n",
      "V214 4277\n",
      "V215 5191\n",
      "V216 4769\n",
      "V263 16586\n",
      "V264 20089\n",
      "V265 18161\n",
      "V266 6886\n",
      "V267 10591\n",
      "V268 8642\n",
      "V270 8138\n",
      "V271 8432\n",
      "V272 8261\n",
      "V273 10568\n",
      "V274 11959\n",
      "V275 11161\n",
      "V276 4398\n",
      "V277 5417\n",
      "V278 4856\n",
      "V306 37081\n",
      "V307 140538\n",
      "V308 67074\n",
      "V309 16636\n",
      "V310 121258\n",
      "V311 10140\n",
      "V312 46506\n",
      "V313 50088\n",
      "V314 59747\n",
      "V315 51521\n",
      "V316 15081\n",
      "V317 24841\n",
      "V318 18718\n",
      "V319 10762\n",
      "V320 18664\n",
      "V321 13113\n"
     ]
    }
   ],
   "source": [
    "\n",
    "col_del = ['TransactionDT']\n",
    "for i in range(339):\n",
    "    col = \"V\" + str(i+1)\n",
    "    s = train_transaction[col].fillna(0).map(lambda x:0 if x%1 == 0 else 1).sum()\n",
    "    if s > 100:\n",
    "        print(col,s)\n",
    "        col_del.append(col)\n",
    "#         del test_transaction[col],train_transaction[col]\n",
    "\n"
   ]
  },
  {
   "cell_type": "code",
   "execution_count": 8,
   "metadata": {},
   "outputs": [
    {
     "name": "stdout",
     "output_type": "stream",
     "text": [
      "(590540, 468)\n",
      "(506691, 467)\n"
     ]
    }
   ],
   "source": [
    "train = train_transaction.merge(train_identity, how='left', left_index=True, right_index=True)\n",
    "test = test_transaction.merge(test_identity, how='left', left_index=True, right_index=True)\n",
    "\n",
    "print(train.shape)\n",
    "print(test.shape)\n",
    "\n",
    "y_train = train['isFraud'].copy()\n",
    "del train_transaction, train_identity, test_transaction, test_identity\n",
    "\n",
    "# Drop target, fill in NaNs\n",
    "X_train = train.drop('isFraud', axis=1)\n",
    "X_test = test.copy()\n",
    "\n",
    "del train, test\n",
    "\n",
    "# Label Encoding\n",
    "for f in X_train.columns:\n",
    "    if X_train[f].dtype=='object' or X_test[f].dtype=='object': \n",
    "        lbl = preprocessing.LabelEncoder()\n",
    "        lbl.fit(list(X_train[f].values) + list(X_test[f].values))\n",
    "        X_train[f] = lbl.transform(list(X_train[f].values))\n",
    "        X_test[f] = lbl.transform(list(X_test[f].values)) "
   ]
  },
  {
   "cell_type": "markdown",
   "metadata": {},
   "source": [
    "**Set debug = True to see validation metric**"
   ]
  },
  {
   "cell_type": "code",
   "execution_count": 9,
   "metadata": {},
   "outputs": [
    {
     "name": "stdout",
     "output_type": "stream",
     "text": [
      "Memory usage of dataframe is 2128.56 MB\n",
      "Memory usage after optimization is: 610.22 MB\n",
      "Decreased by 71.3%\n",
      "Memory usage of dataframe is 1809.17 MB\n",
      "Memory usage after optimization is: 514.14 MB\n",
      "Decreased by 71.6%\n",
      "CPU times: user 6min 42s, sys: 4min 56s, total: 11min 39s\n",
      "Wall time: 1min 27s\n"
     ]
    }
   ],
   "source": [
    "%%time\n",
    "# From kernel https://www.kaggle.com/gemartin/load-data-reduce-memory-usage\n",
    "# WARNING! THIS CAN DAMAGE THE DATA \n",
    "\n",
    "X_train = reduce_mem_usage(X_train)\n",
    "X_test = reduce_mem_usage(X_test)\n",
    "\n",
    "debug = False\n",
    "if debug:\n",
    "    split_pos = X_train.shape[0]*4//5\n",
    "    y_test = y_train.iloc[split_pos:]\n",
    "    y_train = y_train.iloc[:split_pos]\n",
    "    X_test = X_train.iloc[split_pos:,:]\n",
    "    X_train = X_train.iloc[:split_pos,:]"
   ]
  },
  {
   "cell_type": "code",
   "execution_count": 10,
   "metadata": {},
   "outputs": [
    {
     "data": {
      "text/plain": [
       "42"
      ]
     },
     "execution_count": 10,
     "metadata": {},
     "output_type": "execute_result"
    }
   ],
   "source": [
    "import gc\n",
    "gc.collect()"
   ]
  },
  {
   "cell_type": "code",
   "execution_count": 11,
   "metadata": {},
   "outputs": [
    {
     "name": "stdout",
     "output_type": "stream",
     "text": [
      "CPU times: user 5min 4s, sys: 1min 3s, total: 6min 7s\n",
      "Wall time: 6min 1s\n"
     ]
    },
    {
     "data": {
      "text/plain": [
       "86"
      ]
     },
     "execution_count": 11,
     "metadata": {},
     "output_type": "execute_result"
    }
   ],
   "source": [
    "%%time\n",
    "\n",
    "from sklearn.model_selection import KFold\n",
    "from sklearn.metrics import roc_auc_score\n",
    "folds = 3\n",
    "kf = KFold(n_splits = folds, shuffle = True, random_state=seed)\n",
    "y_preds = np.zeros(X_test.shape[0])\n",
    "i = 0\n",
    "for tr_idx, val_idx in kf.split(X_train, y_train):\n",
    "    i+=1\n",
    "    clf = xgb.XGBClassifier(\n",
    "        n_estimators=2000,\n",
    "        max_depth=9,\n",
    "        learning_rate=0.01,\n",
    "        subsample=0.9,\n",
    "        colsample_bytree=0.9,\n",
    "        tree_method='gpu_hist'\n",
    "    )\n",
    "    \n",
    "    X_tr = X_train.iloc[tr_idx, :]\n",
    "    y_tr = y_train.iloc[tr_idx]\n",
    "    clf.fit(X_tr, y_tr)\n",
    "    del X_tr\n",
    "    y_preds+= clf.predict_proba(X_test)[:,1] / folds\n",
    "    if debug:    \n",
    "        print(\"debug:\",roc_auc_score(y_test, clf.predict_proba(X_test)[:,1] / folds)) \n",
    "    del clf\n",
    "        \n",
    "    \n",
    "\n",
    "if debug:    \n",
    "    print(\"debug:\",roc_auc_score(y_test, y_preds))  \n",
    "\n",
    "gc.collect()"
   ]
  },
  {
   "cell_type": "code",
   "execution_count": 12,
   "metadata": {},
   "outputs": [],
   "source": [
    "features = [x for x in X_train.columns if x not in col_del]\n",
    "from sklearn.model_selection import KFold\n",
    "from sklearn.metrics import roc_auc_score\n",
    "folds = 3\n",
    "kf = KFold(n_splits = folds, shuffle = True, random_state=seed)\n",
    "y_preds11 = np.zeros(X_test.shape[0])\n",
    "i = 0\n",
    "for tr_idx, val_idx in kf.split(X_train, y_train):\n",
    "    i+=1\n",
    "    clf = xgb.XGBClassifier(\n",
    "        n_estimators=2000,\n",
    "        max_depth=9,\n",
    "        learning_rate=0.01,\n",
    "        subsample=0.9,\n",
    "        colsample_bytree=0.9,\n",
    "        tree_method='gpu_hist'\n",
    "    )\n",
    "    \n",
    "    X_tr = X_train[features].iloc[tr_idx, :]\n",
    "    y_tr = y_train.iloc[tr_idx]\n",
    "    clf.fit(X_tr, y_tr)\n",
    "    del X_tr\n",
    "    y_preds11+= clf.predict_proba(X_test[features])[:,1] / folds\n",
    "    if debug:    \n",
    "        print(\"debug:\",roc_auc_score(y_test, clf.predict_proba(X_test[features])[:,1] / folds))   \n",
    "    del clf    \n",
    "    \n",
    "gc.collect()\n",
    "if debug:    \n",
    "    print(\"debug:\",roc_auc_score(y_test, y_preds11))  \n",
    "    print(\"debug:\",roc_auc_score(y_test, y_preds11*0.5 + y_preds*0.5))"
   ]
  },
  {
   "cell_type": "code",
   "execution_count": 13,
   "metadata": {},
   "outputs": [
    {
     "name": "stdout",
     "output_type": "stream",
     "text": [
      "(590540, 467)\n",
      "(506691, 467)\n"
     ]
    }
   ],
   "source": [
    "print(X_train.shape)\n",
    "print(X_test.shape)"
   ]
  },
  {
   "cell_type": "code",
   "execution_count": 14,
   "metadata": {},
   "outputs": [],
   "source": [
    "X_train = X_train.drop('TransactionDT',axis=1)\n",
    "X_test = X_test.drop('TransactionDT',axis=1)"
   ]
  },
  {
   "cell_type": "code",
   "execution_count": 15,
   "metadata": {},
   "outputs": [
    {
     "name": "stdout",
     "output_type": "stream",
     "text": [
      "['ProductCD', 'card1', 'card2', 'card3', 'card4', 'card5', 'card6', 'addr1', 'addr2', 'P_emaildomain', 'R_emaildomain', 'DeviceType', 'DeviceInfo']\n"
     ]
    },
    {
     "name": "stderr",
     "output_type": "stream",
     "text": [
      "/home/ww6p9/anaconda3/lib/python3.6/site-packages/lightgbm/basic.py:1184: UserWarning: Using categorical_feature in Dataset.\n",
      "  warnings.warn('Using categorical_feature in Dataset.')\n"
     ]
    }
   ],
   "source": [
    "import lightgbm as lgb\n",
    "cate = [x for x in X_train.columns if (x == 'ProductCD' or  x.startswith(\"addr\") or x.startswith(\"card\") or \n",
    "                                       x.endswith(\"domain\") or x.startswith(\"Device\")) and not x.endswith(\"count\") ]\n",
    "print(cate)\n",
    "params = {'application': 'binary',\n",
    "          'boosting': 'gbdt',\n",
    "          'metric': 'auc',\n",
    "          'max_depth': 16,\n",
    "          'learning_rate': 0.01,\n",
    "          'bagging_fraction': 0.9,\n",
    "          'feature_fraction': 0.9,\n",
    "          'verbosity': -1,\n",
    "          'lambda_l1': 0.1,\n",
    "          'lambda_l2': 0.01,\n",
    "          'num_leaves': 500,\n",
    "          'min_child_weight': 3,\n",
    "          'data_random_seed': 17,\n",
    "         'nthreads':4}\n",
    "\n",
    "early_stop = 200\n",
    "verbose_eval = 30\n",
    "num_rounds = 2000\n",
    "# \n",
    "folds = 3\n",
    "kf = KFold(n_splits = folds, shuffle = True, random_state=seed)\n",
    "y_preds2 = np.zeros(X_test.shape[0])\n",
    "feature_importance_df = pd.DataFrame()\n",
    "i = 0\n",
    "for tr_idx, val_idx in kf.split(X_train, y_train):\n",
    "\n",
    "    \n",
    "    X_tr = X_train.iloc[tr_idx, :]\n",
    "    y_tr = y_train.iloc[tr_idx]\n",
    "    d_train = lgb.Dataset(X_tr, label=y_tr,categorical_feature = cate)\n",
    "    watchlist = []\n",
    "    if debug:\n",
    "        d_test = lgb.Dataset(X_test, label=y_test,categorical_feature = cate)\n",
    "        watchlist.append(d_test)\n",
    "    \n",
    "    \n",
    "    model = lgb.train(params,\n",
    "                      train_set=d_train,\n",
    "                      num_boost_round=num_rounds,\n",
    "                      valid_sets=watchlist,\n",
    "                      verbose_eval=verbose_eval)\n",
    "        \n",
    "    \n",
    "    y_preds2+= model.predict(X_test) / folds\n",
    "    \n",
    "    \n",
    "    fold_importance_df = pd.DataFrame()\n",
    "    fold_importance_df[\"Feature\"] = X_tr.columns\n",
    "    fold_importance_df[\"importance\"] = model.feature_importance()\n",
    "    fold_importance_df[\"fold\"] = i + 1\n",
    "    feature_importance_df = pd.concat([feature_importance_df, fold_importance_df], axis=0)\n",
    "    if debug:    \n",
    "        print(\"debug:\",roc_auc_score(y_test, model.predict(X_test) / folds))  \n",
    "    i+=1\n",
    "    del X_tr,d_train\n",
    "\n",
    "if debug:    \n",
    "    print(\"debug:\",roc_auc_score(y_test, y_preds2))  \n",
    "    print(\"debug:\",roc_auc_score(y_test, (y_preds + y_preds2)*0.5))  \n",
    "\n",
    "\n"
   ]
  },
  {
   "cell_type": "code",
   "execution_count": 16,
   "metadata": {},
   "outputs": [],
   "source": [
    "if debug:    \n",
    "    print(\"debug:\",roc_auc_score(y_test, y_preds))  \n",
    "    print(\"debug:\",roc_auc_score(y_test, y_preds2))  \n",
    "    print(\"debug:\",roc_auc_score(y_test, (y_preds + y_preds2)*0.5)) "
   ]
  },
  {
   "cell_type": "code",
   "execution_count": 17,
   "metadata": {},
   "outputs": [
    {
     "name": "stdout",
     "output_type": "stream",
     "text": [
      "Index(['card1', 'TransactionAmt', 'card1_count', 'addr1', 'hour', 'D15',\n",
      "       'weekday', 'addr1_count', 'id_02', 'dist1', 'D4', 'card1_C5count',\n",
      "       'card2_count', 'card1_amtcount', 'addr1_C5count', 'card2',\n",
      "       'addr1_amtcount', 'id_20', 'D10', 'id_19', 'D2', 'card2_C5count', 'C13',\n",
      "       'D8', 'D11', 'id_31', 'card2_amtcount', 'D1', 'C13_count', 'D5', 'C1',\n",
      "       'id_13', 'D3', 'id_06', 'C14_count', 'DeviceInfo', 'dist2',\n",
      "       'P_emaildomain', 'C2', 'V307', 'D9', 'id_05', 'M4', 'C1_count',\n",
      "       'C6_count', 'id_01', 'card5_count', 'M6', 'C14', 'D14', 'C11', 'C6',\n",
      "       'card5_amtcount', 'M5', 'card5_C5count', 'V313', 'V310', 'C2_count',\n",
      "       'C11_count', 'id_33', 'C9_count', 'V127', 'C9', 'V308', 'V45', 'id_18',\n",
      "       'D6', 'M7', 'D12', 'V87', 'V264', 'id_30', 'V315', 'V314', 'M8', 'V130',\n",
      "       'V317', 'V75', 'V78', 'D13', 'DeviceType', 'V76', 'V83', 'id_14', 'V38',\n",
      "       'V35', 'V62', 'V312', 'V54', 'C10', 'C8', 'V12', 'V44', 'R_emaildomain',\n",
      "       'V53', 'V82', 'M3', 'V36', 'V306', 'V283'],\n",
      "      dtype='object', name='Feature')\n"
     ]
    },
    {
     "data": {
      "image/png": "[encoded data removed]",
      "text/plain": [
       "<Figure size 1008x1800 with 1 Axes>"
      ]
     },
     "metadata": {
      "needs_background": "light"
     },
     "output_type": "display_data"
    }
   ],
   "source": [
    "cols = (feature_importance_df[[\"Feature\", \"importance\"]]\n",
    "        .groupby(\"Feature\")\n",
    "        .mean()\n",
    "        .sort_values(by=\"importance\", ascending=False)[:100].index)\n",
    "print(cols)\n",
    "best_features = feature_importance_df.loc[feature_importance_df.Feature.isin(cols)]\n",
    "\n",
    "plt.figure(figsize=(14,25))\n",
    "sns.barplot(x=\"importance\",\n",
    "            y=\"Feature\",\n",
    "            data=best_features.sort_values(by=\"importance\",\n",
    "                                           ascending=False))\n",
    "plt.title('LightGBM Features (avg over folds)')\n",
    "plt.tight_layout()\n",
    "plt.savefig('lgbm_importances.png')"
   ]
  },
  {
   "cell_type": "code",
   "execution_count": 18,
   "metadata": {},
   "outputs": [
    {
     "name": "stdout",
     "output_type": "stream",
     "text": [
      "['ProductCD', 'card1', 'card2', 'addr1', 'addr2', 'P_emaildomain', 'R_emaildomain', 'DeviceType', 'DeviceInfo']\n",
      "0:\tlearn: 0.6142700\ttotal: 901ms\tremaining: 11m 59s\n",
      "30:\tlearn: 0.0932153\ttotal: 27.2s\tremaining: 11m 14s\n",
      "60:\tlearn: 0.0675624\ttotal: 54.5s\tremaining: 11m\n",
      "90:\tlearn: 0.0594162\ttotal: 1m 22s\tremaining: 10m 39s\n",
      "120:\tlearn: 0.0542253\ttotal: 1m 49s\tremaining: 10m 15s\n",
      "150:\tlearn: 0.0512678\ttotal: 2m 16s\tremaining: 9m 48s\n",
      "180:\tlearn: 0.0491193\ttotal: 2m 44s\tremaining: 9m 21s\n",
      "210:\tlearn: 0.0470365\ttotal: 3m 11s\tremaining: 8m 54s\n",
      "240:\tlearn: 0.0452094\ttotal: 3m 38s\tremaining: 8m 27s\n",
      "270:\tlearn: 0.0439583\ttotal: 4m 5s\tremaining: 7m 59s\n",
      "300:\tlearn: 0.0427129\ttotal: 4m 33s\tremaining: 7m 32s\n",
      "330:\tlearn: 0.0416378\ttotal: 5m\tremaining: 7m 5s\n",
      "360:\tlearn: 0.0403190\ttotal: 5m 27s\tremaining: 6m 38s\n",
      "390:\tlearn: 0.0391035\ttotal: 5m 54s\tremaining: 6m 11s\n",
      "420:\tlearn: 0.0381002\ttotal: 6m 22s\tremaining: 5m 44s\n",
      "450:\tlearn: 0.0371972\ttotal: 6m 49s\tremaining: 5m 16s\n",
      "480:\tlearn: 0.0364360\ttotal: 7m 16s\tremaining: 4m 49s\n",
      "510:\tlearn: 0.0354458\ttotal: 7m 43s\tremaining: 4m 22s\n",
      "540:\tlearn: 0.0346464\ttotal: 8m 11s\tremaining: 3m 55s\n",
      "570:\tlearn: 0.0337619\ttotal: 8m 38s\tremaining: 3m 27s\n",
      "600:\tlearn: 0.0329398\ttotal: 9m 5s\tremaining: 3m\n",
      "630:\tlearn: 0.0322901\ttotal: 9m 33s\tremaining: 2m 33s\n",
      "660:\tlearn: 0.0317461\ttotal: 10m\tremaining: 2m 6s\n",
      "690:\tlearn: 0.0310979\ttotal: 10m 27s\tremaining: 1m 38s\n",
      "720:\tlearn: 0.0303521\ttotal: 10m 54s\tremaining: 1m 11s\n",
      "750:\tlearn: 0.0297681\ttotal: 11m 22s\tremaining: 44.5s\n",
      "780:\tlearn: 0.0291944\ttotal: 11m 49s\tremaining: 17.3s\n",
      "799:\tlearn: 0.0285956\ttotal: 12m 7s\tremaining: 0us\n",
      "0:\tlearn: 0.6135401\ttotal: 909ms\tremaining: 12m 6s\n",
      "30:\tlearn: 0.0918190\ttotal: 28s\tremaining: 11m 34s\n",
      "60:\tlearn: 0.0672448\ttotal: 55.8s\tremaining: 11m 16s\n",
      "90:\tlearn: 0.0587973\ttotal: 1m 24s\tremaining: 10m 54s\n",
      "120:\tlearn: 0.0536132\ttotal: 1m 52s\tremaining: 10m 29s\n",
      "150:\tlearn: 0.0501872\ttotal: 2m 20s\tremaining: 10m 2s\n",
      "180:\tlearn: 0.0478838\ttotal: 2m 47s\tremaining: 9m 33s\n",
      "210:\tlearn: 0.0461417\ttotal: 3m 15s\tremaining: 9m 5s\n",
      "240:\tlearn: 0.0445236\ttotal: 3m 42s\tremaining: 8m 37s\n",
      "270:\tlearn: 0.0430595\ttotal: 4m 10s\tremaining: 8m 8s\n",
      "300:\tlearn: 0.0419745\ttotal: 4m 37s\tremaining: 7m 40s\n",
      "330:\tlearn: 0.0409326\ttotal: 5m 5s\tremaining: 7m 12s\n",
      "360:\tlearn: 0.0397670\ttotal: 5m 32s\tremaining: 6m 44s\n",
      "390:\tlearn: 0.0390502\ttotal: 6m\tremaining: 6m 16s\n",
      "420:\tlearn: 0.0379003\ttotal: 6m 27s\tremaining: 5m 48s\n",
      "450:\tlearn: 0.0368703\ttotal: 6m 55s\tremaining: 5m 21s\n",
      "480:\tlearn: 0.0360278\ttotal: 7m 22s\tremaining: 4m 53s\n",
      "510:\tlearn: 0.0351457\ttotal: 7m 49s\tremaining: 4m 25s\n",
      "540:\tlearn: 0.0344414\ttotal: 8m 17s\tremaining: 3m 58s\n",
      "570:\tlearn: 0.0337861\ttotal: 8m 44s\tremaining: 3m 30s\n",
      "600:\tlearn: 0.0328832\ttotal: 9m 12s\tremaining: 3m 2s\n",
      "630:\tlearn: 0.0323186\ttotal: 9m 39s\tremaining: 2m 35s\n",
      "660:\tlearn: 0.0315053\ttotal: 10m 6s\tremaining: 2m 7s\n",
      "690:\tlearn: 0.0305463\ttotal: 10m 34s\tremaining: 1m 40s\n",
      "720:\tlearn: 0.0299362\ttotal: 11m 1s\tremaining: 1m 12s\n",
      "750:\tlearn: 0.0292852\ttotal: 11m 29s\tremaining: 45s\n",
      "780:\tlearn: 0.0285328\ttotal: 11m 56s\tremaining: 17.4s\n",
      "799:\tlearn: 0.0282077\ttotal: 12m 14s\tremaining: 0us\n",
      "0:\tlearn: 0.6149684\ttotal: 935ms\tremaining: 12m 27s\n",
      "30:\tlearn: 0.0934396\ttotal: 27.8s\tremaining: 11m 30s\n",
      "60:\tlearn: 0.0680100\ttotal: 55.6s\tremaining: 11m 13s\n",
      "90:\tlearn: 0.0593935\ttotal: 1m 23s\tremaining: 10m 52s\n",
      "120:\tlearn: 0.0544808\ttotal: 1m 51s\tremaining: 10m 28s\n",
      "150:\tlearn: 0.0514923\ttotal: 2m 19s\tremaining: 10m 1s\n",
      "180:\tlearn: 0.0492578\ttotal: 2m 47s\tremaining: 9m 32s\n",
      "210:\tlearn: 0.0471891\ttotal: 3m 15s\tremaining: 9m 4s\n",
      "240:\tlearn: 0.0458198\ttotal: 3m 42s\tremaining: 8m 36s\n",
      "270:\tlearn: 0.0443869\ttotal: 4m 10s\tremaining: 8m 8s\n",
      "300:\tlearn: 0.0430246\ttotal: 4m 37s\tremaining: 7m 40s\n",
      "330:\tlearn: 0.0420365\ttotal: 5m 5s\tremaining: 7m 12s\n",
      "360:\tlearn: 0.0406886\ttotal: 5m 33s\tremaining: 6m 45s\n",
      "390:\tlearn: 0.0394882\ttotal: 6m\tremaining: 6m 17s\n",
      "420:\tlearn: 0.0386573\ttotal: 6m 28s\tremaining: 5m 50s\n",
      "450:\tlearn: 0.0380187\ttotal: 6m 56s\tremaining: 5m 22s\n",
      "480:\tlearn: 0.0368740\ttotal: 7m 25s\tremaining: 4m 55s\n",
      "510:\tlearn: 0.0359136\ttotal: 7m 54s\tremaining: 4m 28s\n",
      "540:\tlearn: 0.0352267\ttotal: 8m 22s\tremaining: 4m\n",
      "570:\tlearn: 0.0342304\ttotal: 8m 50s\tremaining: 3m 32s\n",
      "600:\tlearn: 0.0334407\ttotal: 9m 18s\tremaining: 3m 5s\n",
      "630:\tlearn: 0.0326620\ttotal: 9m 46s\tremaining: 2m 37s\n",
      "660:\tlearn: 0.0318659\ttotal: 10m 14s\tremaining: 2m 9s\n",
      "690:\tlearn: 0.0312274\ttotal: 10m 42s\tremaining: 1m 41s\n",
      "720:\tlearn: 0.0305619\ttotal: 11m 9s\tremaining: 1m 13s\n",
      "750:\tlearn: 0.0297563\ttotal: 11m 37s\tremaining: 45.5s\n",
      "780:\tlearn: 0.0290319\ttotal: 12m 4s\tremaining: 17.6s\n",
      "799:\tlearn: 0.0286719\ttotal: 12m 22s\tremaining: 0us\n"
     ]
    }
   ],
   "source": [
    "import catboost as cb\n",
    "from catboost import CatBoostClassifier,Pool\n",
    "\n",
    "\n",
    "features = [x for x in X_train.columns]\n",
    "\n",
    "cate = [x for x in X_train.columns if (x == 'ProductCD' or x in ['card1','card2'] or x.startswith(\"addr\") or \n",
    "                                       x.endswith(\"domain\") or x.startswith(\"Device\")) and not x.endswith(\"count\") and not x == \"id_11\" ]\n",
    "\n",
    "# cate = []\n",
    "print(cate)\n",
    "verbose_eval = 30\n",
    "num_rounds = 800\n",
    "\n",
    "folds = 3\n",
    "kf = KFold(n_splits = folds, shuffle = True, random_state=seed+1)\n",
    "y_preds3 = np.zeros(X_test.shape[0])\n",
    "feature_importance_df = pd.DataFrame()\n",
    "i = 0\n",
    "for tr_idx, val_idx in kf.split(X_train, y_train):\n",
    "\n",
    "    \n",
    "    X_tr = X_train[features].iloc[tr_idx, :].fillna(-1)\n",
    "    y_tr = y_train.iloc[tr_idx]\n",
    "    \n",
    "    model=cb.CatBoostClassifier(iterations=num_rounds,depth=14,learning_rate=0.04,loss_function='Logloss',eval_metric='Logloss'\n",
    "                                ,task_type = \"GPU\")\n",
    "    if debug:\n",
    "        model.fit(X_tr,y_tr,cat_features=cate,verbose_eval = 30)\n",
    "    else:\n",
    "        model.fit(X_tr,y_tr,cat_features=cate,verbose_eval = 30)\n",
    "        \n",
    "\n",
    "    del X_tr\n",
    "    y_preds3+= model.predict_proba(X_test[features].fillna(-1))[:,1] / folds\n",
    "    \n",
    "    \n",
    "    if debug:    \n",
    "        print(\"debug:\",roc_auc_score(y_test, model.predict_proba(X_test[features].fillna(-1))[:,1] / folds))  \n",
    "    i+=1\n",
    "\n",
    "if debug:    \n",
    "    print(\"debug:\",roc_auc_score(y_test, y_preds3))  \n",
    "    print(\"debug:\",roc_auc_score(y_test, (y_preds + y_preds3)*0.5))  \n",
    "    print(\"debug:\",roc_auc_score(y_test, (y_preds + y_preds2 + y_preds3)*0.33))"
   ]
  },
  {
   "cell_type": "code",
   "execution_count": 19,
   "metadata": {},
   "outputs": [],
   "source": [
    "if debug:    \n",
    "    print(\"debug:\",roc_auc_score(y_test, y_preds))\n",
    "    print(\"debug:\",roc_auc_score(y_test, y_preds2))\n",
    "    print(\"debug:\",roc_auc_score(y_test, y_preds3))  \n",
    "    print(\"debug:\",roc_auc_score(y_test, (y_preds + y_preds3)*0.5))  \n",
    "    print(\"debug:\",roc_auc_score(y_test, (y_preds + y_preds2 + y_preds3*0.5)*0.33))\n",
    "    print(\"debug:\",roc_auc_score(y_test, (y_preds11*0.5 + y_preds*0.5 + y_preds2 + y_preds3*0.5)*0.33))"
   ]
  },
  {
   "cell_type": "code",
   "execution_count": null,
   "metadata": {},
   "outputs": [],
   "source": [
    "\n",
    "    "
   ]
  },
  {
   "cell_type": "code",
   "execution_count": 20,
   "metadata": {},
   "outputs": [],
   "source": [
    "if not debug:   \n",
    "    sample_submission['isFraud'] = (y_preds11*0.5 + y_preds*0.5 + y_preds2 + y_preds3*0.5)*0.33\n",
    "    sample_submission.to_csv('../submissions/simple_ensemble6.csv')\n"
   ]
  }
 ],
 "metadata": {
  "kernelspec": {
   "display_name": "Python 3",
   "language": "python",
   "name": "python3"
  },
  "language_info": {
   "codemirror_mode": {
    "name": "ipython",
    "version": 3
   },
   "file_extension": ".py",
   "mimetype": "text/x-python",
   "name": "python",
   "nbconvert_exporter": "python",
   "pygments_lexer": "ipython3",
   "version": "3.6.8"
  }
 },
 "nbformat": 4,
 "nbformat_minor": 1
}
